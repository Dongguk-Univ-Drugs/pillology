{
 "cells": [
  {
   "cell_type": "code",
   "execution_count": 1,
   "metadata": {},
   "outputs": [
    {
     "name": "stdout",
     "output_type": "stream",
     "text": [
      "Requirement already satisfied: parse in /usr/local/lib/python3.8/site-packages (1.19.0)\n",
      "Requirement already satisfied: bs4 in /usr/local/lib/python3.8/site-packages (0.0.1)\n",
      "Requirement already satisfied: beautifulsoup4 in /usr/local/lib/python3.8/site-packages (from bs4) (4.9.3)\n",
      "Requirement already satisfied: soupsieve>1.2 in /usr/local/lib/python3.8/site-packages (from beautifulsoup4->bs4) (2.1)\n",
      "Requirement already satisfied: pymongo in /usr/local/lib/python3.8/site-packages (3.11.2)\n"
     ]
    }
   ],
   "source": [
    "!pip install parse\n",
    "!pip install bs4\n",
    "!pip install pymongo"
   ]
  },
  {
   "cell_type": "code",
   "execution_count": 2,
   "metadata": {},
   "outputs": [],
   "source": [
    "from parse import *\n",
    "from bs4 import BeautifulSoup\n",
    "import requests"
   ]
  },
  {
   "cell_type": "markdown",
   "metadata": {
    "code_folding": []
   },
   "source": [
    "# IMAGE PARSING\n",
    "\n",
    "### cURL를 통한 parsing 작업\n",
    "\n",
    "> url : https://www.foodsafetykorea.go.kr/portal/board/boardList.do"
   ]
  },
  {
   "cell_type": "code",
   "execution_count": 4,
   "metadata": {},
   "outputs": [],
   "source": [
    "startIdx = 1\n",
    "images = []"
   ]
  },
  {
   "cell_type": "code",
   "execution_count": 5,
   "metadata": {},
   "outputs": [],
   "source": [
    "while startIdx != 5:\n",
    "\n",
    "  cookies = {\n",
    "      'hrnk_ctgryno': '',\n",
    "      'idx_1': 'all',\n",
    "      'elevisor_for_j2ee_uid': '65smpdd24b4u5',\n",
    "      '_ga': 'GA1.3.32927273.1611191423',\n",
    "      '_gid': 'GA1.3.562712085.1611191423',\n",
    "      'ctgryno': '',\n",
    "      'JSESSIONID': 'z5TnCvCvHkGXgZZu6exB3QlCL6GXUtjs1rR1YL1KcXTwyrVwJCtJD6FuE3Y1glJ7.amV1c19kb21haW4veGNvd2FzMDNfSVBPMDE=',\n",
    "      'menu_grp': 'MENU_NEW01',\n",
    "  }\n",
    "\n",
    "  headers = {\n",
    "      'Connection': 'keep-alive',\n",
    "      'sec-ch-ua': '\"Google Chrome\";v=\"87\", \" Not;A Brand\";v=\"99\", \"Chromium\";v=\"87\"',\n",
    "      'Accept': 'application/json, text/javascript, */*; q=0.01',\n",
    "      'X-Requested-With': 'XMLHttpRequest',\n",
    "      'sec-ch-ua-mobile': '?0',\n",
    "      'User-Agent': 'Mozilla/5.0 (Macintosh; Intel Mac OS X 11_1_0) AppleWebKit/537.36 (KHTML, like Gecko) Chrome/87.0.4280.141 Safari/537.36',\n",
    "      'Content-Type': 'application/x-www-form-urlencoded; charset=UTF-8',\n",
    "      'Origin': 'https://www.foodsafetykorea.go.kr',\n",
    "      'Sec-Fetch-Site': 'same-origin',\n",
    "      'Sec-Fetch-Mode': 'cors',\n",
    "      'Sec-Fetch-Dest': 'empty',\n",
    "      'Referer': 'https://www.foodsafetykorea.go.kr/portal/board/board.do?menu_grp=MENU_NEW01&menu_no=3120',\n",
    "      'Accept-Language': 'ko-KR,ko;q=0.9,en-US;q=0.8,en;q=0.7',\n",
    "  }\n",
    "\n",
    "  data = {\n",
    "    'menu_no': '3120',\n",
    "    'menu_grp': 'MENU_NEW01',\n",
    "    'copyUrl': 'https://www.foodsafetykorea.go.kr:443/portal/board/board.do?menu_grp=MENU_NEW01&menu_no=3120',\n",
    "    'bbs_no': 'bbs001',\n",
    "    'ntctxt_no': '',\n",
    "    'ctgry_no': '',\n",
    "    'hrnk_ctgryno': '',\n",
    "    'keywrd': '',\n",
    "    'start_idx': str(startIdx),\n",
    "    'first_idx': '',\n",
    "    'nticmatr_yn': 'N',\n",
    "    'bbs_type_cd': '01',\n",
    "    'ans_yn': 'N',\n",
    "    'paramType': '',\n",
    "    'idx_1': '',\n",
    "    'idx_2': '',\n",
    "    'ctgType': '',\n",
    "    'ctgryno': '',\n",
    "    'hrnkCtgryno': '',\n",
    "    'order_type': '01',\n",
    "    'ctgry_type_cd': 'CTG_TYPE01',\n",
    "    'list_img_use_yn': 'N',\n",
    "    'atch_file_posbl_yn': 'Y',\n",
    "    'cmt_yn': 'N',\n",
    "    'kword_use_yn': 'N',\n",
    "    'natn_cd_use_yn': 'N',\n",
    "    'tag_use_yn': 'N',\n",
    "    'meta_use_yn': 'Y',\n",
    "    'search_type': 'title',\n",
    "    'search_keyword': '',\n",
    "    'show_cnt': '40',\n",
    "    'filePath': '',\n",
    "    'fileName': '',\n",
    "    'orgFileName': '',\n",
    "    'file_type_cd': ''\n",
    "  }\n",
    "\n",
    "  response = requests.post('https://www.foodsafetykorea.go.kr/portal/board/boardList.do', headers=headers, cookies=cookies, data=data)\n",
    "\n",
    "  responseJson = response.json()\n",
    "  jsonList = responseJson['list']\n",
    "\n",
    "\n",
    "  for item in jsonList:\n",
    "    soup = BeautifulSoup(item['bdt'])\n",
    "    bdtImages = soup.find_all('img')\n",
    "    \n",
    "    tagString = str(bdtImages[0])\n",
    "    \n",
    "    fileName = tagString[tagString.find('fileName=') + 9 :tagString.find('.png\" ') + 4]\n",
    "    fileHeight = tagString[tagString.find('width: 800px; height: ') + 22 :tagString.find('px;\" /><br />')-5]\n",
    "    \n",
    "    if len(fileName) > 0:\n",
    "      newURL = 'http://www.foodsafetykorea.go.kr/portal/board/attachImage.do?fileName=' + fileName\n",
    "      if item['titl'].find('[카드뉴스]') == -1:\n",
    "        images.append({'title' : item['titl'], 'url' : newURL , 'date' : item['last_updt_dtm'], 'category' : item['ctgrynm'], 'height' : fileHeight})\n",
    "\n",
    "  startIdx += 1"
   ]
  },
  {
   "cell_type": "code",
   "execution_count": null,
   "metadata": {},
   "outputs": [],
   "source": []
  }
 ],
 "metadata": {
  "kernelspec": {
   "display_name": "Python 3",
   "language": "python",
   "name": "python3"
  },
  "language_info": {
   "codemirror_mode": {
    "name": "ipython",
    "version": 3
   },
   "file_extension": ".py",
   "mimetype": "text/x-python",
   "name": "python",
   "nbconvert_exporter": "python",
   "pygments_lexer": "ipython3",
   "version": "3.8.6"
  }
 },
 "nbformat": 4,
 "nbformat_minor": 2
}
