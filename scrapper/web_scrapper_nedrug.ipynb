{
 "cells": [
  {
   "cell_type": "code",
   "execution_count": 1,
   "metadata": {},
   "outputs": [
    {
     "name": "stdout",
     "output_type": "stream",
     "text": [
      "Requirement already satisfied: parse in /usr/local/lib/python3.8/site-packages (1.19.0)\n",
      "Requirement already satisfied: bs4 in /usr/local/lib/python3.8/site-packages (0.0.1)\n",
      "Requirement already satisfied: beautifulsoup4 in /usr/local/lib/python3.8/site-packages (from bs4) (4.9.3)\n",
      "Requirement already satisfied: soupsieve>1.2 in /usr/local/lib/python3.8/site-packages (from beautifulsoup4->bs4) (2.1)\n",
      "Requirement already satisfied: pymongo in /usr/local/lib/python3.8/site-packages (3.11.2)\n"
     ]
    }
   ],
   "source": [
    "!pip install parse\n",
    "!pip install bs4\n",
    "!pip install pymongo"
   ]
  },
  {
   "cell_type": "code",
   "execution_count": 2,
   "metadata": {},
   "outputs": [],
   "source": [
    "from parse import *\n",
    "from bs4 import BeautifulSoup\n",
    "import requests"
   ]
  },
  {
   "cell_type": "markdown",
   "metadata": {},
   "source": [
    "# 의약품안전나라 의약품통합정보시스템\n",
    "\n",
    "## 안전사용정보\n",
    "\n",
    "### 안전사용주의사항안내\n",
    "- <a href=\"https://nedrug.mfds.go.kr/cntnts/34\">의약품이란 무엇인가요?</a>\n",
    "    - 제목 : > html.sub-html > body > div.container_wrap > div#container > div#content_wrap > div#content > h2 > span#spanMenuName\n",
    "    - 소제목 : > html.sub-html > body > div.container_wrap > div#container > div#content_wrap > div#content > div#con_body > div > div > div > div.ct_box > h2.cont_title1.mt20 || h2.cont_title1\n",
    "    - 내용 : > html.sub-html > body > div.container_wrap > div#container > div#content_wrap > div#content > div#con_body > div > div > div > div.ct_box > p.mt10\n",
    "    - 강조 : > html.sub-html > body > div.container_wrap > div#container > div#content_wrap > div#content > div#con_body > div > div > div > div.ct_box > h3.cont_title2.mt20\n",
    "- <a href=\"https://nedrug.mfds.go.kr/cntnts/180\">의약품 안전사용을 위한 주의사항</a>\n",
    "> html.sub-html > body.nav-down > div.container_wrap > div#container > div#content_wrap > div#content > div#con_body > div > div > div > div.con_caution > div.caution_ten > ol > li > (text)\n",
    "\n",
    "### 의약품/의약외품\n",
    "\n",
    "\n",
    "\n"
   ]
  },
  {
   "cell_type": "code",
   "execution_count": 3,
   "metadata": {},
   "outputs": [],
   "source": [
    "scrapped = []\n",
    "\n",
    "URL = 'https://nedrug.mfds.go.kr/cntnts/34#none'\n",
    "page = requests.get(URL)\n",
    "soup = BeautifulSoup(page.content, \"html.parser\")"
   ]
  },
  {
   "cell_type": "code",
   "execution_count": 4,
   "metadata": {},
   "outputs": [],
   "source": [
    "content = soup.find_all('div', class_='ct_box')"
   ]
  },
  {
   "cell_type": "code",
   "execution_count": 7,
   "metadata": {},
   "outputs": [],
   "source": [
    "for element in content:\n",
    "    h2_item = element.find_all('h2', {'class' : ['cont_title1', 'cont_title1 mt20']})\n",
    "    p_item = element.find_all('p', {'class' : ['mt10', 'mt10 pl20']})\n",
    "    h3_item = element.find_all('h3', {'class' : ['cont_title2', 'cont_title1 mt20']})\n",
    "    \n",
    "#     scrapped.append({\n",
    "#         'sub_title' : h2_item.get_text(),\n",
    "#         'content' : p_item.get_text(),\n",
    "#         'emphasize' : h3_item.get_text()\n",
    "#     })"
   ]
  },
  {
   "cell_type": "code",
   "execution_count": 8,
   "metadata": {
    "scrolled": true
   },
   "outputs": [
    {
     "name": "stdout",
     "output_type": "stream",
     "text": [
      "<h2 class=\"cont_title1 mt20\">약이란 무엇인가요?</h2>\n",
      "<h2 class=\"cont_title1\">약물을 사용하기 전에 알아둘 것은 무엇인가요?</h2>\n",
      "<h2 class=\"cont_title1\">약물이 우리 몸에 들어가서 어떻게 되나요?</h2>\n",
      "<h2 class=\"cont_title1\">약을 올바로 복용하기 위해 알아야 할 점</h2>\n"
     ]
    }
   ],
   "source": [
    "for i in h2_item:\n",
    "    print(i)"
   ]
  },
  {
   "cell_type": "code",
   "execution_count": 9,
   "metadata": {},
   "outputs": [
    {
     "name": "stdout",
     "output_type": "stream",
     "text": [
      "<p class=\"mt10\">약이란 어떤 질환을 치료하기 위해서 사용되는 특정한 물질(화학물질일 수도 있고 천연물질일 수도 있습니다.)을 말합니다.<br/>\n",
      "약은 무조건 해롭지도, 무조건 이롭지도 않은 양면성을 지니고 있습니다. 약을 올바르게 사용한다면 약에서 기대할 수 있는 최고의 효과를 누리면서 최소의 약물유해반응을 기대할 수 있지만, 약을 잘못 사용한다면 약은 독이 될 수도 있기 때문입니다.<br/>\n",
      "<br/>\n",
      "따라서 질환에 맞게 정해진 용량·용법으로 필요한 기간만큼 약을 사용하는 것이 중요합니다.<br/>\n",
      "<br/>\n",
      "예를 들어 고혈압을 진단받았는데 증상이 없다고 해서 처방받은 혈압약을 복용하지 않는다면 갑자기 고혈압으로 인한 뇌졸중 등 합병증으로 더 큰 병을 불러올 수 있습니다.<br/>\n",
      "또, 항생제의 경우 일주일분을 처방받으셨는데도 약은 많이 먹으면 무조건 해로운 줄 알거나 증상이 좋아졌다고 도중에 안드시게 되면 증상이 악화되거나 또는 항생제 내성을 키우게 되어 나중에 항생제를 사용하시게 될 떄 예전에 효과가 있었던 항생제가 효과가 없는 경우가 생기게 됩니다.<br/>\n",
      "<br/>\n",
      "개인에 따라 적절한 용량의 차이가 큰 약물도 있습니다.<br/>\n",
      "와파린(Warfarin)이라는 항응고제는 개인에 따라 용량이 많게는 열 배 가까이 차이 날 수도 있습니다. 따라서 처방 받은 용량이 많다고 해서 독할 거라고 생각하셔서 반만 드시게 되면 몸 속에 혈전(피떡)이 생기게 되고 이것이 혈액을 따라 순환하다가 혈관을 막게 되어, 예를 들어 중풍(뇌졸중)과 같은 심각한 문제를 야기시킬 수 있습니다.<br/>\n",
      "<br/>\n",
      "그렇게 되면 치료비용이 추가로 발생하여 경제적으로도 더 부담이 생기게 됩니다.<br/>\n",
      "<br/>\n",
      "그러므로 약물은 처방받은 용법·용량에 맞게 사용해야 합니다.<br/>\n",
      "일반의약품이라 할지라도 사용설명서에 맞게 사용하는 것이 중요합니다.</p>\n",
      "<p class=\"mt10\">자신의 이름을 확인하지 않으면 다른 사람의 약을 잘못가져와 위험해질 수 있습니다.<br/>\n",
      "또한 자신이 복용하고 있는 약물이 어떤 것인지, 어떤 질환에 쓰이는지 알고 복용하게 되면 그 약물을 복용하는 필요성을 느끼게 되어 치료 효과를 높일 수 있습니다.<br/>\n",
      "더불어 응급상황 또는 다음번 치료 시 본인이 복용하는 약물에 대해 알려주면 의사 또는 약사가 적절한 처치를 하는 데 도움이 됩니다.</p>\n",
      "<p class=\"mt10 pl20\">처방받은 약의 용법과 용량을 잘 확인해서 복용하시면 치료효과를 높이고, 약물유해반응을 줄일 수 있을 것입니다.</p>\n",
      "<p class=\"mt10 pl20\">예를 들어 가슴에 통증이 있다고 해서 한가지 질환을 진단할 수는 없습니다. 만약 가슴통증의 원인이 서로 다른 질병인데 협심증을 진단받으신 분의 약을 나눠 드실 경우 위험해질 수 있습니다. 의사의 정확한 진단 후에 처방된 약을 드셔야 합니다.</p>\n",
      "<p class=\"mt10\">약물이 우리 몸 속에 들어가면 흡수되고, 퍼지고, 변화되어서 빠져 나가게 됩니다. 이과정을 거치면서 질환이 있는 부분에서 약물의 효과를 나타내게 되어 치료가 됩니다.</p>\n",
      "<p class=\"mt10 pl20\">흡수는 약물이 몸 속에 들어가서 장에서 흡수되는 단계를 말합니다. (먹는 약의 경우) 장의 상태나 약물의 종류, 음식물 등에 따라서 흡수되는 정도가 달라지게 됩니다. 따라서 기름에 잘 녹는 약물의 흡수를 높이기 위해서는 기름진 음식과 같이 드시길 권하는 약물도 있고, 흡수를 빨리 하게 하기 위해서 빈 속에 드시기를 권하는 약물도 있습니다. 주사제는 장으로 흡수되지 않고 혈관이나 근육 등으로 들어가서 약물이 퍼지므로 먹는 약보다 흡수가 빠릅니다. 연고나 패체취 등은 피부를 통해서 흡수됩니다. 흡입제의 경우 기관지를 통해서 흡수됩니다.</p>\n",
      "<p class=\"mt10 pl20\">약물이 우리 몸 속에 흡수가 되면 온 몸에 퍼집니다. 이를 분포라 합니다. 약물이 온 몸에 퍼져야 비로소 약물이 필요한 부위에 도달하게 됩니다. 우리 몸의 약 2/3은 물 부분이므로 약물은 대부분 물 부분에 분포하지만, 약에 따라서 특정부위에만 분포할 수도 있습니다. 분포는 약물이 단백질과 얼마나 결합하느냐에 다라 정도가 달라집니다.</p>\n",
      "<p class=\"mt10 pl20\">약물이 몸 속에 퍼져서 약물 그대로 있지 않고 몸 속의 반응에 의해 변화되는 단계를 대사라고 합니다. 어떠한 약물은 약효가 없는 성분으로 변환되고, 일부 약물은 변환되어 약효를 나타내기도 합니다. 약물의 몸 속에서의 변화는 주로 간에서 이루어지며, 다른 장기에서도 이루어 집니다. 간에서 이루어지는 대사는 사람별로 차이가 큽니다. 주로 간기능, 나이, 같이 드시는 다른 약물에 영향을 받게 됩니다.</p>\n",
      "<p class=\"mt10 pl20\">배설은 약물이 몸 안에서 빠져 나가는 단계를 뜻합니다. 소변, 대변, 담즙, 땀 등을 통해서 빠져나가게 되고, 약물의 상태와 사람 상태에 따라 빠져나가는 정도는 달라집니다. 담즙으로 배설되는 약물은 장에서 재흡수되기도 합니다.</p>\n",
      "<p class=\"mt10 pl20\">용법은 약을 투여하는 방법을 말합니다. 투여경로, 투여시간, 투여횟수 등이 있습니다.</p>\n",
      "<p class=\"mt10 pl20\">1회 또는 1일에 투여하는 약물의 양을 말합니다. 환자의 성별, 나이, 체중, 키, 간의 기능, 신장의 기능 등에 따라 같은 질환, 같은 약물일지라도 용량이 다를 수 있습니다. 따라서 자신에게 처방된 용량을 정확히 알아두는 것이 좋습니다. 일반의약품의 경우 약국에서 약을 살때 설명을 잘 들은 후 포장지나 설명서를 참고하셔서 이에 맞게 사용합니다.</p>\n",
      "<p class=\"mt10 pl20\">약물이 환자의 상태에 따라 효과를 높이고, 약물유해반응을 최소화하는 것을 기대할 수 있게 약물의 상태를 달리한 것을 말합니다. 온 몸에 약물 효과가 필요할 경우 먹는 형태의 약물이 적합할 것이고, 눈만 아플 경우는 안약이 적합할 것입니다. 또 빠른 효과를 기대해야할 경우에는 주사제 등을 선택하는 것이 좋을 것입니다. 경구약의 경우 정제, 캡슐, 액제 등이 있고 좌제, 점안제, 점비제, 점이제, 스프레이, 가글 등이 있습니다. 흡입제의 경우 MDI 제형, 터부헬러, 디스커스, 네뷸라이저 등이 있습니다. 자세한 사항은 제형별 복약지도를 참고하세요.</p>\n",
      "<p class=\"mt10 pl35\">먹는약을 말합니다. 종류로는 정제, 캡슐 액제 등이 있습니다.</p>\n",
      "<p class=\"mt10 pl35\">먹을 수 없고 우리 몸 바깥에 투여하는 약을 말합니다. 연고, 크림, 좌제, 점안제, 점비제, 외용스프레이, 가글 등이 있습니다.</p>\n",
      "<p class=\"mt10 pl35\">먹거나 아픈 부위 표면에 투여하는 것이 아니라 주사로 우리 몸 속에 직접 투여하는 약을 말합니다. 주사의 방법은 정맥 주사, 피하 주사, 근육 주사 등이 있고 주사제는 의사의 처방이 반드시 팔요하고, 인슐린 등 자가 주사 외에는 의사나 간호사가 투여해야 합니다.</p>\n",
      "<p class=\"mt10 pl20\">약물유해반응이란 본래의 약물에서 기대하는 효과가 아닌 다른 반응을 말합니다. 아무리 용량과 용법에 맞게 약물을 사용했다고 해도 환자의 특성에 따라, 약물의 특성에 따라 약물유해반응은 일어날 수 있습니다. 약물유해반응이 일어났다고 해서 무조건 그약이 나쁜것은 아닙니다.<br/>\n",
      "<br/>\n",
      "따라서 약물을 사용하는 도중에 생각하지 못했던 증상이 나타나는 경우에는 의사나 약사와 상담하는 것이 좋습니다.<br/>\n",
      "<br/>\n",
      "세계보건기구(WHO)에서는 약물유해반응의 정의를 \" 병의 예방, 진단 또는 생리기능을 위하여 의약품을 인체에 상용량을 투여했을 때 발생하는 유해하고 의도하지 아니한 반응\" 이라고 하였습니다.<br/>\n",
      "<br/>\n",
      "의약품, 의외약품을 사람의 질병예방 또는 치료 등 특정한 목적으로 사용할 때 그 목적에 맞는 주작용(Principal Action)과 반대의 개념으로 유해여부에 관계없이 \"본래의 사용목적에 합치되지 아니하는 작용\"으로 나타난 반응을 모두 말하고 있습니다.</p>\n",
      "<p class=\"mt10 pl35\">의약품 작용기전(인체에 작용하는 원리)에 나타나는 이상반응 입니다. 이는 기전에 따를 해결법(예측, 예방)을 찾습니다.<br/>\n",
      "<span class=\"red_cr\">예) 항히스타민제 복용 시 졸리움</span></p>\n",
      "<p class=\"mt10 pl35\">일반 상용량이나 과용량(용량부하)에서 발생합니다. 용량과 관계 있으므로 용량 감소로 해결 가능합니다.<br/>\n",
      "<span class=\"red_cr\">예) 비아그라의 두통 - 용량감소로 해결가능</span></p>\n",
      "<p class=\"mt10 pl35\">특정환자군에서 상용량 이하에서 발생합니다. 증상에 따라 투여하지 않거나 처치가 필요합니다.<br/>\n",
      "<span class=\"red_cr\">예)페니실린 항생제의 과민반응</span></p>\n",
      "<p class=\"mt10 pl35\">개체적인 특이반응(유전적 차이)으로 인해 발생합니다. 투여하지 않거나 처치(특이반응 검사, 환자교육)가 필요합니다.</p>\n",
      "<p class=\"mt10 pl35\">의료진 및 환자 자신의 비의도적인 실수로 발생합니다. 이를 방지하기 위해서는 이중 확인 시스템이 필요합니다.</p>\n",
      "<p class=\"mt10 pl35\">환자 자신의 의도적인 행위로 인해 발생합니다. 이는 환자교육으로 해결해야 합니다.<br/>\n",
      "<span class=\"red_cr\">예)마약류 남용</span></p>\n",
      "<p class=\"mt10 pl35\">약물과 약물간, 약물과 음식간, 약물과 개체간 서로 미치는 영향을 말합니다. 생리학적, 약리학적, 약동학적 상호작용 등이 있습니다. 원인에 따라 해결합니다.</p>\n"
     ]
    }
   ],
   "source": [
    "for i in p_item:\n",
    "    print(i)"
   ]
  },
  {
   "cell_type": "code",
   "execution_count": 10,
   "metadata": {},
   "outputs": [
    {
     "name": "stdout",
     "output_type": "stream",
     "text": [
      "<h3 class=\"cont_title2 mt20\">용법과 용량을 확인하세요. 약 봉투나 복약안내문에서 확인하실 수 있습니다. 특별한 의사 지시가 없을 경우에는 약 봉투에 적힌 용법대로 정확하게 복용하세요.</h3>\n",
      "<h3 class=\"cont_title2 mt20\">증상이 비슷하다고 해서 자신의 약을 다른사람에게 주거나, 다른 사람의 약을 복용해서는 안됩니다. 증상이 비슷하다고 같은 질환이라고 할 수는 없습니다.</h3>\n",
      "<h3 class=\"cont_title2 mt20\">약물이 몸 안에 흡수되는 단계 : 흡수</h3>\n",
      "<h3 class=\"cont_title2 mt20\">약물이 몸 전체로 퍼지는 단계 : 분포</h3>\n",
      "<h3 class=\"cont_title2 mt20\">약물이 몸 안에서 변화되는 단계 : 대사</h3>\n",
      "<h3 class=\"cont_title2 mt20\">약물이 몸 안에서 빠져 나가는 단계 : 배설</h3>\n",
      "<h3 class=\"cont_title2 mt20\">용법</h3>\n",
      "<h3 class=\"cont_title2 mt20\">용량</h3>\n",
      "<h3 class=\"cont_title2 mt20\">제형</h3>\n",
      "<h3 class=\"cont_title2 mt20\">투여경로</h3>\n",
      "<h3 class=\"cont_title2 mt20\">약물유해반응</h3>\n"
     ]
    }
   ],
   "source": [
    "for i in h3_item:\n",
    "    print(i)"
   ]
  },
  {
   "cell_type": "code",
   "execution_count": null,
   "metadata": {},
   "outputs": [],
   "source": []
  }
 ],
 "metadata": {
  "kernelspec": {
   "display_name": "Python 3",
   "language": "python",
   "name": "python3"
  },
  "language_info": {
   "codemirror_mode": {
    "name": "ipython",
    "version": 3
   },
   "file_extension": ".py",
   "mimetype": "text/x-python",
   "name": "python",
   "nbconvert_exporter": "python",
   "pygments_lexer": "ipython3",
   "version": "3.8.6"
  }
 },
 "nbformat": 4,
 "nbformat_minor": 4
}
