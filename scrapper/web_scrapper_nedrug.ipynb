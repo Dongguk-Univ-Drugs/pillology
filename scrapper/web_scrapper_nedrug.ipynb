{
 "cells": [
  {
   "cell_type": "code",
   "execution_count": 4,
   "metadata": {},
   "outputs": [
    {
     "name": "stdout",
     "output_type": "stream",
     "text": [
      "Requirement already satisfied: parse in /usr/local/lib/python3.8/site-packages (1.19.0)\n",
      "Requirement already satisfied: bs4 in /usr/local/lib/python3.8/site-packages (0.0.1)\n",
      "Requirement already satisfied: beautifulsoup4 in /usr/local/lib/python3.8/site-packages (from bs4) (4.9.3)\n",
      "Requirement already satisfied: soupsieve>1.2 in /usr/local/lib/python3.8/site-packages (from beautifulsoup4->bs4) (2.1)\n",
      "Requirement already satisfied: pymongo in /usr/local/lib/python3.8/site-packages (3.11.2)\n"
     ]
    }
   ],
   "source": [
    "!pip install parse\n",
    "!pip install bs4\n",
    "!pip install pymongo"
   ]
  },
  {
   "cell_type": "code",
   "execution_count": 5,
   "metadata": {},
   "outputs": [],
   "source": [
    "from parse import *\n",
    "from bs4 import BeautifulSoup\n",
    "import requests"
   ]
  },
  {
   "cell_type": "markdown",
   "metadata": {},
   "source": [
    "# 의약품안전나라 의약품통합정보시스템\n",
    "\n",
    "## 안전사용정보\n",
    "\n",
    "### 안전사용주의사항안내\n",
    "- <a href=\"https://nedrug.mfds.go.kr/cntnts/34\">의약품이란 무엇인가요?</a>\n",
    "    - 제목 : > html.sub-html > body > div.container_wrap > div#container > div#content_wrap > div#content > h2 > span#spanMenuName\n",
    "    - 소제목 : > html.sub-html > body > div.container_wrap > div#container > div#content_wrap > div#content > div#con_body > div > div > div > div.ct_box > h2.cont_title1.mt20 || h2.cont_title1\n",
    "    - 내용 : > html.sub-html > body > div.container_wrap > div#container > div#content_wrap > div#content > div#con_body > div > div > div > div.ct_box > p.mt10\n",
    "    - 강조 : > html.sub-html > body > div.container_wrap > div#container > div#content_wrap > div#content > div#con_body > div > div > div > div.ct_box > h3.cont_title2.mt20\n",
    "- <a href=\"https://nedrug.mfds.go.kr/cntnts/180\">의약품 안전사용을 위한 주의사항</a>\n",
    "> html.sub-html > body.nav-down > div.container_wrap > div#container > div#content_wrap > div#content > div#con_body > div > div > div > div.con_caution > div.caution_ten > ol > li > (text)\n",
    "\n",
    "### 의약품/의약외품\n",
    "\n",
    "\n",
    "\n"
   ]
  },
  {
   "cell_type": "code",
   "execution_count": 8,
   "metadata": {},
   "outputs": [],
   "source": [
    "URL = 'https://nedrug.mfds.go.kr/cntnts/34#none'\n",
    "page = requests.get(URL)\n",
    "soup = BeautifulSoup(page.content, \"html.parser\")"
   ]
  },
  {
   "cell_type": "code",
   "execution_count": null,
   "metadata": {},
   "outputs": [],
   "source": []
  }
 ],
 "metadata": {
  "kernelspec": {
   "display_name": "Python 3",
   "language": "python",
   "name": "python3"
  },
  "language_info": {
   "codemirror_mode": {
    "name": "ipython",
    "version": 3
   },
   "file_extension": ".py",
   "mimetype": "text/x-python",
   "name": "python",
   "nbconvert_exporter": "python",
   "pygments_lexer": "ipython3",
   "version": "3.8.6"
  }
 },
 "nbformat": 4,
 "nbformat_minor": 4
}
