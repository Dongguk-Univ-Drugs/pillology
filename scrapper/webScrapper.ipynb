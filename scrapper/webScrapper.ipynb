{
 "cells": [
  {
   "cell_type": "code",
   "execution_count": 1,
   "metadata": {},
   "outputs": [
    {
     "name": "stdout",
     "output_type": "stream",
     "text": [
      "Requirement already satisfied: parse in /usr/local/lib/python3.8/site-packages (1.19.0)\n",
      "Requirement already satisfied: bs4 in /usr/local/lib/python3.8/site-packages (0.0.1)\n",
      "Requirement already satisfied: beautifulsoup4 in /usr/local/lib/python3.8/site-packages (from bs4) (4.9.3)\n",
      "Requirement already satisfied: soupsieve>1.2 in /usr/local/lib/python3.8/site-packages (from beautifulsoup4->bs4) (2.1)\n",
      "Requirement already satisfied: pymongo in /usr/local/lib/python3.8/site-packages (3.11.2)\n"
     ]
    }
   ],
   "source": [
    "!pip install parse\n",
    "!pip install bs4\n",
    "!pip install pymongo"
   ]
  },
  {
   "cell_type": "code",
   "execution_count": 2,
   "metadata": {},
   "outputs": [],
   "source": [
    "from parse import *\n",
    "from bs4 import BeautifulSoup\n",
    "import requests"
   ]
  },
  {
   "cell_type": "markdown",
   "metadata": {},
   "source": [
    "# IMAGE PARSING\n",
    "\n",
    "### cURL를 통한 parsing 작업\n",
    "\n",
    "> url : https://www.foodsafetykorea.go.kr/portal/board/boardList.do"
   ]
  },
  {
   "cell_type": "code",
   "execution_count": 3,
   "metadata": {},
   "outputs": [],
   "source": [
    "startIdx = 1\n",
    "images = []"
   ]
  },
  {
   "cell_type": "code",
   "execution_count": 4,
   "metadata": {},
   "outputs": [],
   "source": [
    "while startIdx != 5:\n",
    "\n",
    "  cookies = {\n",
    "      'hrnk_ctgryno': '',\n",
    "      'idx_1': 'all',\n",
    "      'elevisor_for_j2ee_uid': '65smpdd24b4u5',\n",
    "      '_ga': 'GA1.3.32927273.1611191423',\n",
    "      '_gid': 'GA1.3.562712085.1611191423',\n",
    "      'ctgryno': '',\n",
    "      'JSESSIONID': 'z5TnCvCvHkGXgZZu6exB3QlCL6GXUtjs1rR1YL1KcXTwyrVwJCtJD6FuE3Y1glJ7.amV1c19kb21haW4veGNvd2FzMDNfSVBPMDE=',\n",
    "      'menu_grp': 'MENU_NEW01',\n",
    "  }\n",
    "\n",
    "  headers = {\n",
    "      'Connection': 'keep-alive',\n",
    "      'sec-ch-ua': '\"Google Chrome\";v=\"87\", \" Not;A Brand\";v=\"99\", \"Chromium\";v=\"87\"',\n",
    "      'Accept': 'application/json, text/javascript, */*; q=0.01',\n",
    "      'X-Requested-With': 'XMLHttpRequest',\n",
    "      'sec-ch-ua-mobile': '?0',\n",
    "      'User-Agent': 'Mozilla/5.0 (Macintosh; Intel Mac OS X 11_1_0) AppleWebKit/537.36 (KHTML, like Gecko) Chrome/87.0.4280.141 Safari/537.36',\n",
    "      'Content-Type': 'application/x-www-form-urlencoded; charset=UTF-8',\n",
    "      'Origin': 'https://www.foodsafetykorea.go.kr',\n",
    "      'Sec-Fetch-Site': 'same-origin',\n",
    "      'Sec-Fetch-Mode': 'cors',\n",
    "      'Sec-Fetch-Dest': 'empty',\n",
    "      'Referer': 'https://www.foodsafetykorea.go.kr/portal/board/board.do?menu_grp=MENU_NEW01&menu_no=3120',\n",
    "      'Accept-Language': 'ko-KR,ko;q=0.9,en-US;q=0.8,en;q=0.7',\n",
    "  }\n",
    "\n",
    "  data = {\n",
    "    'menu_no': '3120',\n",
    "    'menu_grp': 'MENU_NEW01',\n",
    "    'copyUrl': 'https://www.foodsafetykorea.go.kr:443/portal/board/board.do?menu_grp=MENU_NEW01&menu_no=3120',\n",
    "    'bbs_no': 'bbs001',\n",
    "    'ntctxt_no': '',\n",
    "    'ctgry_no': '',\n",
    "    'hrnk_ctgryno': '',\n",
    "    'keywrd': '',\n",
    "    'start_idx': str(startIdx),\n",
    "    'first_idx': '',\n",
    "    'nticmatr_yn': 'N',\n",
    "    'bbs_type_cd': '01',\n",
    "    'ans_yn': 'N',\n",
    "    'paramType': '',\n",
    "    'idx_1': '',\n",
    "    'idx_2': '',\n",
    "    'ctgType': '',\n",
    "    'ctgryno': '',\n",
    "    'hrnkCtgryno': '',\n",
    "    'order_type': '01',\n",
    "    'ctgry_type_cd': 'CTG_TYPE01',\n",
    "    'list_img_use_yn': 'N',\n",
    "    'atch_file_posbl_yn': 'Y',\n",
    "    'cmt_yn': 'N',\n",
    "    'kword_use_yn': 'N',\n",
    "    'natn_cd_use_yn': 'N',\n",
    "    'tag_use_yn': 'N',\n",
    "    'meta_use_yn': 'Y',\n",
    "    'search_type': 'title',\n",
    "    'search_keyword': '',\n",
    "    'show_cnt': '40',\n",
    "    'filePath': '',\n",
    "    'fileName': '',\n",
    "    'orgFileName': '',\n",
    "    'file_type_cd': ''\n",
    "  }\n",
    "\n",
    "  response = requests.post('https://www.foodsafetykorea.go.kr/portal/board/boardList.do', headers=headers, cookies=cookies, data=data)\n",
    "\n",
    "  responseJson = response.json()\n",
    "  jsonList = responseJson['list']\n",
    "\n",
    "\n",
    "  for item in jsonList:\n",
    "    soup = BeautifulSoup(item['bdt'])\n",
    "    bdtImages = soup.find_all('img')\n",
    "    \n",
    "    tagString = str(bdtImages[0])\n",
    "    \n",
    "    fileName = tagString[tagString.find('fileName=') + 9 :tagString.find('.png\" ') + 4]\n",
    "    fileHeight = tagString[tagString.find('width: 800px; height: ') + 22 :tagString.find('px;\" /><br />')-5]\n",
    "    \n",
    "    if len(fileName) > 0:\n",
    "      newURL = 'http://www.foodsafetykorea.go.kr/portal/board/attachImage.do?fileName=' + fileName\n",
    "      if item['titl'].find('[카드뉴스]') == -1:\n",
    "        images.append({'title' : item['titl'], 'url' : newURL , 'date' : item['last_updt_dtm'], 'category' : item['ctgrynm'], 'height' : fileHeight})\n",
    "\n",
    "  startIdx += 1"
   ]
  },
  {
   "cell_type": "code",
   "execution_count": 5,
   "metadata": {},
   "outputs": [
    {
     "name": "stdout",
     "output_type": "stream",
     "text": [
      "{'title': '2021년 상반기 식품 분야 안전정책 이렇게 달라집니다!', 'url': 'http://www.foodsafetykorea.go.kr/portal/board/attachImage.do?fileName=%28%25EC%259D%25B8%25ED%258F%25AC%25EA%25B7%25B8%25EB%259E%2598%25ED%2594%25BD%29_20210118183912.png', 'date': '2021.01.18', 'category': '식생활 안전수칙', 'height': '6198'}\n",
      "{'title': '알쏭달쏭 식품용어 쉽게 알아봐요', 'url': 'http://www.foodsafetykorea.go.kr/portal/board/attachImage.do?fileName=%28%25EC%259D%25B8%25ED%258F%25AC%25EA%25B7%25B8%25EB%259E%2598%25ED%2594%25BD%29%2520%25EC%2595%258C%25EC%258F%25AD%25EB%258B%25AC%25EC%258F%25AD%2520%25EC%258B%259D%25ED%2592%2588%25EC%259A%25A9%25EC%2596%25B4%2520%25EC%2589%25BD%25EA%25B2%258C%2520%25EC%2595%258C%25EC%2595%2584%25EB%25B4%2590%25EC%259A%2594.png', 'date': '2020.12.24', 'category': '식품안전지식', 'height': '6400'}\n",
      "{'title': \"12월의 제철음식 '감귤&굴'\", 'url': 'http://www.foodsafetykorea.go.kr/portal/board/attachImage.do?fileName=%28%25EC%259D%25B8%25ED%258F%25AC%25EA%25B7%25B8%25EB%259E%2598%25ED%2594%25BD%29%252012%25EC%259B%2594%2520%25EC%25A0%259C%25EC%25B2%25A0%25EC%259D%258C%25EC%258B%259D%2520%27%25EA%25B0%2590%25EA%25B7%25A4%2526%25EA%25B5%25B4%27_20201222122456.png', 'date': '2020.12.22', 'category': '식품안전지식', 'height': 's://wwwadm.foodsafetykorea.go.kr/websquare/externalJS/editor/loadImg.wq?subDir=&amp;fileName=%28%25EC%259D%25B8%25ED%258F%25AC%25EA%25B7%25B8%25EB%259E%2598%25ED%2594%25BD%29%252012%25EC%259B%2594%2520%25EC%25A0%259C%25EC%25B2%25A0%25EC%259D%258C%25EC%258B%259D%2520%27%25EA%25B0%2590%25EA%25B7%25A4%2526%25EA%25B5%25B4%27_20201222122456.png\" style=\"width: 801px; height: 7405'}\n",
      "{'title': '항생제 내성 이해하기', 'url': 'http://www.foodsafetykorea.go.kr/portal/board/attachImage.do?fileName=%28%25EC%259D%25B8%25ED%258F%25AC%25EA%25B7%25B8%25EB%259E%2598%25ED%2594%25BD%29.png', 'date': '2020.12.22', 'category': '식품안전지식', 'height': '6437'}\n",
      "{'title': '꽃차, 먹을 수 있는 꽃인지 확인하고 드세요!', 'url': 'http://www.foodsafetykorea.go.kr/portal/board/attachImage.do?fileName=%28%25EC%259D%25B8%25ED%258F%25AC%25EA%25B7%25B8%25EB%259E%2598%25ED%2594%25BD%29%2520%25EA%25BD%2583%25EC%25B0%25A8%252C%2520%25EB%25A8%25B9%25EC%259D%2584%2520%25EC%2588%2598%2520%25EC%259E%2588%25EB%258A%2594%2520%25EA%25BD%2583%2520%25ED%2599%2595%25EC%259D%25B8%25ED%2595%2598%25EC%2597%25AC%2520%25EB%2593%259C%25EC%2584%25B8%25EC%259A%2594_20201209162637.png', 'date': '2020.12.09', 'category': '식생활 안전수칙', 'height': '6481'}\n",
      "{'title': '2020 생산실적보고', 'url': 'http://www.foodsafetykorea.go.kr/portal/board/attachImage.do?fileName=%28%25EC%259D%25B8%25ED%258F%25AC%25EA%25B7%25B8%25EB%259E%2598%25ED%2594%25BD%29%2520%25EC%2583%259D%25EC%2582%25B0%25EC%258B%25A4%25EC%25A0%2581%25EB%25B3%25B4%25EA%25B3%25A0_20201202145326.png', 'date': '2020.12.02', 'category': '식품안전지식', 'height': '7051'}\n",
      "{'title': '아크릴아마이드 안전관리를 강화합니다!', 'url': 'http://www.foodsafetykorea.go.kr/portal/board/attachImage.do?fileName=%28%25EC%259D%25B8%25ED%258F%25AC%25EA%25B7%25B8%25EB%259E%2598%25ED%2594%25BD%29%2520%25EA%25B3%25BC%25EC%259E%2590%25EB%25A5%2598%2520%25EB%2593%25B1%2520%25EC%2595%2584%25ED%2581%25AC%25EB%25A6%25B4%25EC%2595%2584%25EB%25A7%2588%25EC%259D%25B4%25EB%2593%259C%2520%25EC%2595%2588%25EC%25A0%2584%25EA%25B4%2580%25EB%25A6%25AC%25EB%25A5%25BC%2520%25EA%25B0%2595%25ED%2599%2594%25ED%2595%25A9%25EB%258B%2588%25EB%258B%25A4%21.png', 'date': '2021.01.19', 'category': '안전한 취급요령', 'height': '5557'}\n",
      "{'title': '생활속 유해물질 안전정보를 알려드려요!', 'url': 'http://www.foodsafetykorea.go.kr/portal/board/attachImage.do?fileName=1_20201118143245.png', 'date': '2020.11.18', 'category': '식생활 안전수칙', 'height': '533'}\n",
      "{'title': '주목받는 비건(Vegan) 라이프, 안전수칙 알아봐요!', 'url': 'http://www.foodsafetykorea.go.kr/portal/board/attachImage.do?fileName=%25EC%259D%25B8%25ED%258F%25AC.png', 'date': '2020.11.10', 'category': '식품안전지식', 'height': 's://wwwadm.foodsafetykorea.go.kr/websquare/externalJS/editor/loadImg.wq?subDir=&amp;fileName=%25EC%259D%25B8%25ED%258F%25AC.png\" style=\"width: 801px; height: 6396'}\n",
      "{'title': '천연유래 식품첨가물, 식품안전나라에서 확인하세요!', 'url': 'http://www.foodsafetykorea.go.kr/portal/board/attachImage.do?fileName=%28%25EC%259D%25B8%25ED%258F%25AC%25EA%25B7%25B8%25EB%259E%2598%25ED%2594%25BD%29%2520%25EC%25B2%259C%25EC%2597%25B0%25EC%259C%25A0%25EB%259E%2598%2520%25EC%258B%259D%25ED%2592%2588%25EC%25B2%25A8%25EA%25B0%2580%25EB%25AC%25BC%252C%2520%25EC%258B%259D%25ED%2592%2588%25EC%2595%2588%25EC%25A0%2584%25EB%2582%2598%25EB%259D%25BC%25EC%2597%2590%25EC%2584%259C%2520%25ED%2599%2595%25EC%259D%25B8%25ED%2595%2598%25EC%2584%25B8%25EC%259A%2594%21.png', 'date': '2020.11.03', 'category': '식품안전지식', 'height': '8464'}\n",
      "{'title': '과잉섭취를 주의해야 할 영양소', 'url': 'http://www.foodsafetykorea.go.kr/portal/board/attachImage.do?fileName=%25EC%259D%25B8%25ED%258F%25AC%25EA%25B7%25B8%25EB%259E%2598%25ED%2594%25BD_20201007165331.png', 'date': '2020.10.07', 'category': '식품안전지식', 'height': '5168'}\n",
      "{'title': '크릴오일, 건강기능식품이 아니에요!', 'url': 'http://www.foodsafetykorea.go.kr/portal/board/attachImage.do?fileName=%25EC%259D%25B8%25ED%258F%25AC%25EA%25B7%25B8%25EB%259E%2598%25ED%2594%25BD_20200924114111.png', 'date': '2020.10.05', 'category': '식생활 안전수칙', 'height': '7914'}\n",
      "{'title': '식품위생교육, 어떻게 듣나요?', 'url': 'http://www.foodsafetykorea.go.kr/portal/board/attachImage.do?fileName=%25EC%259D%25B8%25ED%258F%25AC%25EA%25B7%25B8%25EB%259E%2598%25ED%2594%25BD_%25EC%258B%259D%25ED%2592%2588%25EC%259C%2584%25EC%2583%259D%25EA%25B5%2590%25EC%259C%25A1.png', 'date': '2020.08.31', 'category': '식품안전지식', 'height': '10248'}\n",
      "{'title': '음식점 생활 방역 안전하게 식사합시다!', 'url': 'http://www.foodsafetykorea.go.kr/portal/board/attachImage.do?fileName=%25EC%25B9%25B4%25EB%2593%259C%25EB%2589%25B4%25EC%258A%25A4-%25EC%259D%258C%25EC%258B%259D%25EC%25A0%2590%2520%25EB%25B0%25A9%25EC%2597%25AD%25EA%25B0%2595%25ED%2599%2594_1.png', 'date': '2020.07.01', 'category': '식생활 안전수칙', 'height': '800'}\n",
      "{'title': '무더운 여름의 불청객, 식품 이물을 조심하세요!', 'url': 'http://www.foodsafetykorea.go.kr/portal/board/attachImage.do?fileName=%25EC%258B%259D%25ED%2592%2588%25EC%259D%25B4%25EB%25AC%25BC%25EC%2598%2588%25EB%25B0%25A9.png', 'date': '2020.06.29', 'category': '식생활 안전수칙', 'height': '9115'}\n",
      "{'title': '농산물 잔류농약 걱정되시나요?', 'url': 'http://www.foodsafetykorea.go.kr/portal/board/attachImage.do?fileName=%25EC%259E%2594%25EB%25A5%2598%25EB%2586%258D%25EC%2595%25BD%2520%25EC%259D%25B8%25ED%258F%25AC%25EA%25B7%25B8%25EB%259E%2598%25ED%2594%25BD.png', 'date': '2020.06.22', 'category': '식품안전지식', 'height': '6963'}\n",
      "{'title': '건강기능식품 기능성원료 민원인 신청 안내서', 'url': 'http://www.foodsafetykorea.go.kr/portal/board/attachImage.do?fileName=%25EC%259D%25B8%25ED%258F%25AC%25EA%25B7%25B8%25EB%259E%2598%25ED%2594%25BD_20200615165937.png', 'date': '2020.06.15', 'category': '식품안전지식', 'height': '9922'}\n",
      "{'title': '우리 가게 위생등급, 식품안전나라에서 빠르고 쉽게 신청하세요!', 'url': 'http://www.foodsafetykorea.go.kr/portal/board/attachImage.do?fileName=%25EC%259D%25B8%25ED%258F%25AC%25EA%25B7%25B8%25EB%259E%2598%25ED%2594%25BD_20200603092021.png', 'date': '2020.06.03', 'category': '식품안전지식', 'height': '7669'}\n",
      "{'title': '식품안전나라에서 어린이 기호식품의 고열량·저영양 식품여부를 확인해보세요!', 'url': 'http://www.foodsafetykorea.go.kr/portal/board/attachImage.do?fileName=%25EA%25B3%25A0%25EC%2597%25B4%25EB%259F%2589%25EC%25A0%2580%25EC%2598%2581%25EC%2596%2591-%25EC%2584%259C%25EB%25B9%2584%25EC%258A%25A4.png', 'date': '2020.03.30', 'category': '식품안전지식', 'height': '7917'}\n",
      "{'title': '미세먼지에 슬기롭게 대처하는 꿀팁', 'url': 'http://www.foodsafetykorea.go.kr/portal/board/attachImage.do?fileName=1_20190731091342.png', 'date': '2020.08.26', 'category': '식품안전지식', 'height': '800'}\n"
     ]
    }
   ],
   "source": [
    "for x in images:\n",
    "  print(x)"
   ]
  },
  {
   "cell_type": "markdown",
   "metadata": {},
   "source": [
    "# CONNECT TO DATABASE\n",
    "\n",
    "## MongoDB \n",
    "\n",
    "> monitoring db : https://cloud.mongodb.com/freemonitoring/cluster/TDYYQXEYAO3QSKOMLSDAQFMN2QUU7V7F\n",
    "\n",
    "* db name : pilldb\n",
    "* collection name : images"
   ]
  },
  {
   "cell_type": "code",
   "execution_count": 6,
   "metadata": {},
   "outputs": [],
   "source": [
    "import pymongo\n",
    "from pymongo import MongoClient"
   ]
  },
  {
   "cell_type": "code",
   "execution_count": 7,
   "metadata": {},
   "outputs": [
    {
     "name": "stdout",
     "output_type": "stream",
     "text": [
      "done !\n"
     ]
    }
   ],
   "source": [
    "conn = MongoClient(\"mongodb://localhost:27017/\")\n",
    "# db create\n",
    "db = conn.pilldb\n",
    "# collection init\n",
    "collect = db.images\n",
    "# document init\n",
    "for item in images:\n",
    "    collect.insert_one(item)\n",
    "print(\"done !\")"
   ]
  },
  {
   "cell_type": "code",
   "execution_count": 8,
   "metadata": {},
   "outputs": [
    {
     "name": "stdout",
     "output_type": "stream",
     "text": [
      "{'_id': ObjectId('600a8ede84c193a90e74d796'), 'title': '2021년 상반기 식품 분야 안전정책 이렇게 달라집니다!', 'url': 'http://www.foodsafetykorea.go.kr/portal/board/attachImage.do?fileName=%28%25EC%259D%25B8%25ED%258F%25AC%25EA%25B7%25B8%25EB%259E%2598%25ED%2594%25BD%29_20210118183912.png', 'date': '2021.01.18', 'category': '식생활 안전수칙', 'height': '6198'}\n",
      "{'_id': ObjectId('600a8ede84c193a90e74d797'), 'title': '알쏭달쏭 식품용어 쉽게 알아봐요', 'url': 'http://www.foodsafetykorea.go.kr/portal/board/attachImage.do?fileName=%28%25EC%259D%25B8%25ED%258F%25AC%25EA%25B7%25B8%25EB%259E%2598%25ED%2594%25BD%29%2520%25EC%2595%258C%25EC%258F%25AD%25EB%258B%25AC%25EC%258F%25AD%2520%25EC%258B%259D%25ED%2592%2588%25EC%259A%25A9%25EC%2596%25B4%2520%25EC%2589%25BD%25EA%25B2%258C%2520%25EC%2595%258C%25EC%2595%2584%25EB%25B4%2590%25EC%259A%2594.png', 'date': '2020.12.24', 'category': '식품안전지식', 'height': '6400'}\n",
      "{'_id': ObjectId('600a8ede84c193a90e74d798'), 'title': \"12월의 제철음식 '감귤&굴'\", 'url': 'http://www.foodsafetykorea.go.kr/portal/board/attachImage.do?fileName=%28%25EC%259D%25B8%25ED%258F%25AC%25EA%25B7%25B8%25EB%259E%2598%25ED%2594%25BD%29%252012%25EC%259B%2594%2520%25EC%25A0%259C%25EC%25B2%25A0%25EC%259D%258C%25EC%258B%259D%2520%27%25EA%25B0%2590%25EA%25B7%25A4%2526%25EA%25B5%25B4%27_20201222122456.png', 'date': '2020.12.22', 'category': '식품안전지식', 'height': 's://wwwadm.foodsafetykorea.go.kr/websquare/externalJS/editor/loadImg.wq?subDir=&amp;fileName=%28%25EC%259D%25B8%25ED%258F%25AC%25EA%25B7%25B8%25EB%259E%2598%25ED%2594%25BD%29%252012%25EC%259B%2594%2520%25EC%25A0%259C%25EC%25B2%25A0%25EC%259D%258C%25EC%258B%259D%2520%27%25EA%25B0%2590%25EA%25B7%25A4%2526%25EA%25B5%25B4%27_20201222122456.png\" style=\"width: 801px; height: 7405'}\n",
      "{'_id': ObjectId('600a8ede84c193a90e74d799'), 'title': '항생제 내성 이해하기', 'url': 'http://www.foodsafetykorea.go.kr/portal/board/attachImage.do?fileName=%28%25EC%259D%25B8%25ED%258F%25AC%25EA%25B7%25B8%25EB%259E%2598%25ED%2594%25BD%29.png', 'date': '2020.12.22', 'category': '식품안전지식', 'height': '6437'}\n",
      "{'_id': ObjectId('600a8ede84c193a90e74d79a'), 'title': '꽃차, 먹을 수 있는 꽃인지 확인하고 드세요!', 'url': 'http://www.foodsafetykorea.go.kr/portal/board/attachImage.do?fileName=%28%25EC%259D%25B8%25ED%258F%25AC%25EA%25B7%25B8%25EB%259E%2598%25ED%2594%25BD%29%2520%25EA%25BD%2583%25EC%25B0%25A8%252C%2520%25EB%25A8%25B9%25EC%259D%2584%2520%25EC%2588%2598%2520%25EC%259E%2588%25EB%258A%2594%2520%25EA%25BD%2583%2520%25ED%2599%2595%25EC%259D%25B8%25ED%2595%2598%25EC%2597%25AC%2520%25EB%2593%259C%25EC%2584%25B8%25EC%259A%2594_20201209162637.png', 'date': '2020.12.09', 'category': '식생활 안전수칙', 'height': '6481'}\n",
      "{'_id': ObjectId('600a8ede84c193a90e74d79b'), 'title': '2020 생산실적보고', 'url': 'http://www.foodsafetykorea.go.kr/portal/board/attachImage.do?fileName=%28%25EC%259D%25B8%25ED%258F%25AC%25EA%25B7%25B8%25EB%259E%2598%25ED%2594%25BD%29%2520%25EC%2583%259D%25EC%2582%25B0%25EC%258B%25A4%25EC%25A0%2581%25EB%25B3%25B4%25EA%25B3%25A0_20201202145326.png', 'date': '2020.12.02', 'category': '식품안전지식', 'height': '7051'}\n",
      "{'_id': ObjectId('600a8ede84c193a90e74d79c'), 'title': '아크릴아마이드 안전관리를 강화합니다!', 'url': 'http://www.foodsafetykorea.go.kr/portal/board/attachImage.do?fileName=%28%25EC%259D%25B8%25ED%258F%25AC%25EA%25B7%25B8%25EB%259E%2598%25ED%2594%25BD%29%2520%25EA%25B3%25BC%25EC%259E%2590%25EB%25A5%2598%2520%25EB%2593%25B1%2520%25EC%2595%2584%25ED%2581%25AC%25EB%25A6%25B4%25EC%2595%2584%25EB%25A7%2588%25EC%259D%25B4%25EB%2593%259C%2520%25EC%2595%2588%25EC%25A0%2584%25EA%25B4%2580%25EB%25A6%25AC%25EB%25A5%25BC%2520%25EA%25B0%2595%25ED%2599%2594%25ED%2595%25A9%25EB%258B%2588%25EB%258B%25A4%21.png', 'date': '2021.01.19', 'category': '안전한 취급요령', 'height': '5557'}\n",
      "{'_id': ObjectId('600a8ede84c193a90e74d79d'), 'title': '생활속 유해물질 안전정보를 알려드려요!', 'url': 'http://www.foodsafetykorea.go.kr/portal/board/attachImage.do?fileName=1_20201118143245.png', 'date': '2020.11.18', 'category': '식생활 안전수칙', 'height': '533'}\n",
      "{'_id': ObjectId('600a8ede84c193a90e74d79e'), 'title': '주목받는 비건(Vegan) 라이프, 안전수칙 알아봐요!', 'url': 'http://www.foodsafetykorea.go.kr/portal/board/attachImage.do?fileName=%25EC%259D%25B8%25ED%258F%25AC.png', 'date': '2020.11.10', 'category': '식품안전지식', 'height': 's://wwwadm.foodsafetykorea.go.kr/websquare/externalJS/editor/loadImg.wq?subDir=&amp;fileName=%25EC%259D%25B8%25ED%258F%25AC.png\" style=\"width: 801px; height: 6396'}\n",
      "{'_id': ObjectId('600a8ede84c193a90e74d79f'), 'title': '천연유래 식품첨가물, 식품안전나라에서 확인하세요!', 'url': 'http://www.foodsafetykorea.go.kr/portal/board/attachImage.do?fileName=%28%25EC%259D%25B8%25ED%258F%25AC%25EA%25B7%25B8%25EB%259E%2598%25ED%2594%25BD%29%2520%25EC%25B2%259C%25EC%2597%25B0%25EC%259C%25A0%25EB%259E%2598%2520%25EC%258B%259D%25ED%2592%2588%25EC%25B2%25A8%25EA%25B0%2580%25EB%25AC%25BC%252C%2520%25EC%258B%259D%25ED%2592%2588%25EC%2595%2588%25EC%25A0%2584%25EB%2582%2598%25EB%259D%25BC%25EC%2597%2590%25EC%2584%259C%2520%25ED%2599%2595%25EC%259D%25B8%25ED%2595%2598%25EC%2584%25B8%25EC%259A%2594%21.png', 'date': '2020.11.03', 'category': '식품안전지식', 'height': '8464'}\n",
      "{'_id': ObjectId('600a8ede84c193a90e74d7a0'), 'title': '과잉섭취를 주의해야 할 영양소', 'url': 'http://www.foodsafetykorea.go.kr/portal/board/attachImage.do?fileName=%25EC%259D%25B8%25ED%258F%25AC%25EA%25B7%25B8%25EB%259E%2598%25ED%2594%25BD_20201007165331.png', 'date': '2020.10.07', 'category': '식품안전지식', 'height': '5168'}\n",
      "{'_id': ObjectId('600a8ede84c193a90e74d7a1'), 'title': '크릴오일, 건강기능식품이 아니에요!', 'url': 'http://www.foodsafetykorea.go.kr/portal/board/attachImage.do?fileName=%25EC%259D%25B8%25ED%258F%25AC%25EA%25B7%25B8%25EB%259E%2598%25ED%2594%25BD_20200924114111.png', 'date': '2020.10.05', 'category': '식생활 안전수칙', 'height': '7914'}\n",
      "{'_id': ObjectId('600a8ede84c193a90e74d7a2'), 'title': '식품위생교육, 어떻게 듣나요?', 'url': 'http://www.foodsafetykorea.go.kr/portal/board/attachImage.do?fileName=%25EC%259D%25B8%25ED%258F%25AC%25EA%25B7%25B8%25EB%259E%2598%25ED%2594%25BD_%25EC%258B%259D%25ED%2592%2588%25EC%259C%2584%25EC%2583%259D%25EA%25B5%2590%25EC%259C%25A1.png', 'date': '2020.08.31', 'category': '식품안전지식', 'height': '10248'}\n",
      "{'_id': ObjectId('600a8ede84c193a90e74d7a3'), 'title': '음식점 생활 방역 안전하게 식사합시다!', 'url': 'http://www.foodsafetykorea.go.kr/portal/board/attachImage.do?fileName=%25EC%25B9%25B4%25EB%2593%259C%25EB%2589%25B4%25EC%258A%25A4-%25EC%259D%258C%25EC%258B%259D%25EC%25A0%2590%2520%25EB%25B0%25A9%25EC%2597%25AD%25EA%25B0%2595%25ED%2599%2594_1.png', 'date': '2020.07.01', 'category': '식생활 안전수칙', 'height': '800'}\n",
      "{'_id': ObjectId('600a8ede84c193a90e74d7a4'), 'title': '무더운 여름의 불청객, 식품 이물을 조심하세요!', 'url': 'http://www.foodsafetykorea.go.kr/portal/board/attachImage.do?fileName=%25EC%258B%259D%25ED%2592%2588%25EC%259D%25B4%25EB%25AC%25BC%25EC%2598%2588%25EB%25B0%25A9.png', 'date': '2020.06.29', 'category': '식생활 안전수칙', 'height': '9115'}\n",
      "{'_id': ObjectId('600a8ede84c193a90e74d7a5'), 'title': '농산물 잔류농약 걱정되시나요?', 'url': 'http://www.foodsafetykorea.go.kr/portal/board/attachImage.do?fileName=%25EC%259E%2594%25EB%25A5%2598%25EB%2586%258D%25EC%2595%25BD%2520%25EC%259D%25B8%25ED%258F%25AC%25EA%25B7%25B8%25EB%259E%2598%25ED%2594%25BD.png', 'date': '2020.06.22', 'category': '식품안전지식', 'height': '6963'}\n",
      "{'_id': ObjectId('600a8ede84c193a90e74d7a6'), 'title': '건강기능식품 기능성원료 민원인 신청 안내서', 'url': 'http://www.foodsafetykorea.go.kr/portal/board/attachImage.do?fileName=%25EC%259D%25B8%25ED%258F%25AC%25EA%25B7%25B8%25EB%259E%2598%25ED%2594%25BD_20200615165937.png', 'date': '2020.06.15', 'category': '식품안전지식', 'height': '9922'}\n",
      "{'_id': ObjectId('600a8ede84c193a90e74d7a7'), 'title': '우리 가게 위생등급, 식품안전나라에서 빠르고 쉽게 신청하세요!', 'url': 'http://www.foodsafetykorea.go.kr/portal/board/attachImage.do?fileName=%25EC%259D%25B8%25ED%258F%25AC%25EA%25B7%25B8%25EB%259E%2598%25ED%2594%25BD_20200603092021.png', 'date': '2020.06.03', 'category': '식품안전지식', 'height': '7669'}\n",
      "{'_id': ObjectId('600a8ede84c193a90e74d7a8'), 'title': '식품안전나라에서 어린이 기호식품의 고열량·저영양 식품여부를 확인해보세요!', 'url': 'http://www.foodsafetykorea.go.kr/portal/board/attachImage.do?fileName=%25EA%25B3%25A0%25EC%2597%25B4%25EB%259F%2589%25EC%25A0%2580%25EC%2598%2581%25EC%2596%2591-%25EC%2584%259C%25EB%25B9%2584%25EC%258A%25A4.png', 'date': '2020.03.30', 'category': '식품안전지식', 'height': '7917'}\n",
      "{'_id': ObjectId('600a8ede84c193a90e74d7a9'), 'title': '미세먼지에 슬기롭게 대처하는 꿀팁', 'url': 'http://www.foodsafetykorea.go.kr/portal/board/attachImage.do?fileName=1_20190731091342.png', 'date': '2020.08.26', 'category': '식품안전지식', 'height': '800'}\n"
     ]
    }
   ],
   "source": [
    "result = collect.find()\n",
    "for i in result:\n",
    "    print(i)"
   ]
  },
  {
   "cell_type": "code",
   "execution_count": null,
   "metadata": {},
   "outputs": [],
   "source": []
  }
 ],
 "metadata": {
  "kernelspec": {
   "display_name": "Python 3",
   "language": "python",
   "name": "python3"
  },
  "language_info": {
   "codemirror_mode": {
    "name": "ipython",
    "version": 3
   },
   "file_extension": ".py",
   "mimetype": "text/x-python",
   "name": "python",
   "nbconvert_exporter": "python",
   "pygments_lexer": "ipython3",
   "version": "3.8.6"
  }
 },
 "nbformat": 4,
 "nbformat_minor": 4
}
